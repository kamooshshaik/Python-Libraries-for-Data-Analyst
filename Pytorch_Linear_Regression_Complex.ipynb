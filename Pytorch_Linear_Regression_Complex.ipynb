{
 "cells": [
  {
   "cell_type": "markdown",
   "metadata": {
    "colab_type": "text",
    "id": "dmAfAVhFhLO1"
   },
   "source": [
    "# The Setup"
   ]
  },
  {
   "cell_type": "markdown",
   "metadata": {
    "colab_type": "text",
    "id": "dsU-gDo8goJA"
   },
   "source": [
    "In this tutorial we use a special package called hiddenlayer.\n",
    "\n",
    "It's very easy to install and serves as a way to visualize Pytorch graphs.\n",
    "\n",
    "To install, use `pip install hiddenlayer`."
   ]
  },
  {
   "cell_type": "code",
   "execution_count": 1,
   "metadata": {
    "colab": {
     "base_uri": "https://localhost:8080/",
     "height": 34
    },
    "colab_type": "code",
    "id": "8udM2x5pgIdF",
    "outputId": "3d0c8295-71bf-4e79-bfd2-b58536d5b636"
   },
   "outputs": [
    {
     "name": "stdout",
     "output_type": "stream",
     "text": [
      "Requirement already satisfied: hiddenlayer in /usr/local/lib/python3.6/dist-packages (0.3)\n"
     ]
    }
   ],
   "source": [
    "! pip install hiddenlayer"
   ]
  },
  {
   "cell_type": "code",
   "execution_count": 2,
   "metadata": {
    "colab": {
     "base_uri": "https://localhost:8080/",
     "height": 71
    },
    "colab_type": "code",
    "id": "JUfHVTKHfKh5",
    "outputId": "8dae50de-c997-4625-ac4c-df2bf41e2660"
   },
   "outputs": [
    {
     "name": "stderr",
     "output_type": "stream",
     "text": [
      "/usr/local/lib/python3.6/dist-packages/statsmodels/tools/_testing.py:19: FutureWarning: pandas.util.testing is deprecated. Use the functions in the public API at pandas.testing instead.\n",
      "  import pandas.util.testing as tm\n"
     ]
    }
   ],
   "source": [
    "# Necessary imports\n",
    "import torch\n",
    "import numpy as np\n",
    "import matplotlib.pyplot as plt\n",
    "import pandas as pd\n",
    "import graphviz\n",
    "import hiddenlayer as hl\n",
    "import seaborn as sns"
   ]
  },
  {
   "cell_type": "markdown",
   "metadata": {
    "colab_type": "text",
    "id": "im5w8fhlgnS9"
   },
   "source": [
    "The dataset we use is the Bike Sharing Demand Dataset which you can get by registering [here](https://www.kaggle.com/c/bike-sharing-demand/data)."
   ]
  },
  {
   "cell_type": "markdown",
   "metadata": {
    "colab_type": "text",
    "id": "6LRRm7gohJrM"
   },
   "source": [
    "Now that we have the necessary things ready, let's get into the thick of it."
   ]
  },
  {
   "cell_type": "markdown",
   "metadata": {
    "colab_type": "text",
    "id": "-oVAr--ehSY4"
   },
   "source": [
    "# The Data"
   ]
  },
  {
   "cell_type": "code",
   "execution_count": 0,
   "metadata": {
    "colab": {},
    "colab_type": "code",
    "id": "Bh4GjjINfnKC"
   },
   "outputs": [],
   "source": [
    "data = pd.read_csv(\"train.csv\", index_col = 0, nrows=1000)"
   ]
  },
  {
   "cell_type": "markdown",
   "metadata": {
    "colab_type": "text",
    "id": "w0H_gPxnnDGo"
   },
   "source": [
    "For the sake of the tutorial we only use 1000 rows, but you can use the entire dataset!"
   ]
  },
  {
   "cell_type": "code",
   "execution_count": 4,
   "metadata": {
    "colab": {
     "base_uri": "https://localhost:8080/",
     "height": 34
    },
    "colab_type": "code",
    "id": "P3B-S6wPhVm-",
    "outputId": "90943511-f0d3-43be-9b6f-d21f92175aeb"
   },
   "outputs": [
    {
     "data": {
      "text/plain": [
       "(1000, 11)"
      ]
     },
     "execution_count": 4,
     "metadata": {
      "tags": []
     },
     "output_type": "execute_result"
    }
   ],
   "source": [
    "data.shape"
   ]
  },
  {
   "cell_type": "code",
   "execution_count": 5,
   "metadata": {
    "colab": {
     "base_uri": "https://localhost:8080/",
     "height": 235
    },
    "colab_type": "code",
    "id": "VL4C9nlrh16W",
    "outputId": "8cc51946-b34c-4fee-8a5d-bd69b28295df"
   },
   "outputs": [
    {
     "data": {
      "text/html": [
       "<div>\n",
       "<style scoped>\n",
       "    .dataframe tbody tr th:only-of-type {\n",
       "        vertical-align: middle;\n",
       "    }\n",
       "\n",
       "    .dataframe tbody tr th {\n",
       "        vertical-align: top;\n",
       "    }\n",
       "\n",
       "    .dataframe thead th {\n",
       "        text-align: right;\n",
       "    }\n",
       "</style>\n",
       "<table border=\"1\" class=\"dataframe\">\n",
       "  <thead>\n",
       "    <tr style=\"text-align: right;\">\n",
       "      <th></th>\n",
       "      <th>season</th>\n",
       "      <th>holiday</th>\n",
       "      <th>workingday</th>\n",
       "      <th>weather</th>\n",
       "      <th>temp</th>\n",
       "      <th>atemp</th>\n",
       "      <th>humidity</th>\n",
       "      <th>windspeed</th>\n",
       "      <th>casual</th>\n",
       "      <th>registered</th>\n",
       "      <th>count</th>\n",
       "    </tr>\n",
       "    <tr>\n",
       "      <th>datetime</th>\n",
       "      <th></th>\n",
       "      <th></th>\n",
       "      <th></th>\n",
       "      <th></th>\n",
       "      <th></th>\n",
       "      <th></th>\n",
       "      <th></th>\n",
       "      <th></th>\n",
       "      <th></th>\n",
       "      <th></th>\n",
       "      <th></th>\n",
       "    </tr>\n",
       "  </thead>\n",
       "  <tbody>\n",
       "    <tr>\n",
       "      <th>2011-01-01 00:00:00</th>\n",
       "      <td>1</td>\n",
       "      <td>0</td>\n",
       "      <td>0</td>\n",
       "      <td>1</td>\n",
       "      <td>9.84</td>\n",
       "      <td>14.395</td>\n",
       "      <td>81</td>\n",
       "      <td>0.0</td>\n",
       "      <td>3</td>\n",
       "      <td>13</td>\n",
       "      <td>16</td>\n",
       "    </tr>\n",
       "    <tr>\n",
       "      <th>2011-01-01 01:00:00</th>\n",
       "      <td>1</td>\n",
       "      <td>0</td>\n",
       "      <td>0</td>\n",
       "      <td>1</td>\n",
       "      <td>9.02</td>\n",
       "      <td>13.635</td>\n",
       "      <td>80</td>\n",
       "      <td>0.0</td>\n",
       "      <td>8</td>\n",
       "      <td>32</td>\n",
       "      <td>40</td>\n",
       "    </tr>\n",
       "    <tr>\n",
       "      <th>2011-01-01 02:00:00</th>\n",
       "      <td>1</td>\n",
       "      <td>0</td>\n",
       "      <td>0</td>\n",
       "      <td>1</td>\n",
       "      <td>9.02</td>\n",
       "      <td>13.635</td>\n",
       "      <td>80</td>\n",
       "      <td>0.0</td>\n",
       "      <td>5</td>\n",
       "      <td>27</td>\n",
       "      <td>32</td>\n",
       "    </tr>\n",
       "    <tr>\n",
       "      <th>2011-01-01 03:00:00</th>\n",
       "      <td>1</td>\n",
       "      <td>0</td>\n",
       "      <td>0</td>\n",
       "      <td>1</td>\n",
       "      <td>9.84</td>\n",
       "      <td>14.395</td>\n",
       "      <td>75</td>\n",
       "      <td>0.0</td>\n",
       "      <td>3</td>\n",
       "      <td>10</td>\n",
       "      <td>13</td>\n",
       "    </tr>\n",
       "    <tr>\n",
       "      <th>2011-01-01 04:00:00</th>\n",
       "      <td>1</td>\n",
       "      <td>0</td>\n",
       "      <td>0</td>\n",
       "      <td>1</td>\n",
       "      <td>9.84</td>\n",
       "      <td>14.395</td>\n",
       "      <td>75</td>\n",
       "      <td>0.0</td>\n",
       "      <td>0</td>\n",
       "      <td>1</td>\n",
       "      <td>1</td>\n",
       "    </tr>\n",
       "  </tbody>\n",
       "</table>\n",
       "</div>"
      ],
      "text/plain": [
       "                     season  holiday  workingday  ...  casual  registered  count\n",
       "datetime                                          ...                           \n",
       "2011-01-01 00:00:00       1        0           0  ...       3          13     16\n",
       "2011-01-01 01:00:00       1        0           0  ...       8          32     40\n",
       "2011-01-01 02:00:00       1        0           0  ...       5          27     32\n",
       "2011-01-01 03:00:00       1        0           0  ...       3          10     13\n",
       "2011-01-01 04:00:00       1        0           0  ...       0           1      1\n",
       "\n",
       "[5 rows x 11 columns]"
      ]
     },
     "execution_count": 5,
     "metadata": {
      "tags": []
     },
     "output_type": "execute_result"
    }
   ],
   "source": [
    "data.head()"
   ]
  },
  {
   "cell_type": "code",
   "execution_count": 6,
   "metadata": {
    "colab": {
     "base_uri": "https://localhost:8080/",
     "height": 513
    },
    "colab_type": "code",
    "id": "XoxrnHNXhj0w",
    "outputId": "d3c4cb6c-74b2-441f-c2dd-7487874c3177"
   },
   "outputs": [
    {
     "data": {
      "image/png": "[encoded data removed]",
      "text/plain": [
       "<Figure size 576x576 with 1 Axes>"
      ]
     },
     "metadata": {
      "needs_background": "light",
      "tags": []
     },
     "output_type": "display_data"
    }
   ],
   "source": [
    "plt.figure(figsize=(8,8))\n",
    "sns.barplot('holiday', 'count', hue='season', data=data)\n",
    "plt.title(\"Number of bikes rented!\")\n",
    "plt.legend(loc=\"upper right\")\n",
    "plt.show()"
   ]
  },
  {
   "cell_type": "markdown",
   "metadata": {
    "colab_type": "text",
    "id": "Ws7tOhtbirH7"
   },
   "source": [
    "I'm going to leave further exploration up to you, the reader. \n",
    "\n",
    "If you have any doubts on how to use `matplotlib` you can refer to [my  other tutorial on Matplotlib](https://rohitmidha23.github.io/Matplotlib-Explained/)."
   ]
  },
  {
   "cell_type": "markdown",
   "metadata": {
    "colab_type": "text",
    "id": "qR39eSxBjDem"
   },
   "source": [
    "# The Dataloader"
   ]
  },
  {
   "cell_type": "markdown",
   "metadata": {
    "colab_type": "text",
    "id": "CW6cXsCIjTb8"
   },
   "source": [
    "We will use only a few columns for the final features."
   ]
  },
  {
   "cell_type": "code",
   "execution_count": 0,
   "metadata": {
    "colab": {},
    "colab_type": "code",
    "id": "7nD_hUr5h0Pc"
   },
   "outputs": [],
   "source": [
    "columns = ['season', 'holiday', 'workingday', 'weather', 'temp',\n",
    "           'atemp', 'humidity', 'windspeed', 'casual', 'registered']\n",
    "\n",
    "features = data[columns]"
   ]
  },
  {
   "cell_type": "code",
   "execution_count": 0,
   "metadata": {
    "colab": {},
    "colab_type": "code",
    "id": "VyasikU1jQme"
   },
   "outputs": [],
   "source": [
    "target = data[\"count\"]"
   ]
  },
  {
   "cell_type": "code",
   "execution_count": 9,
   "metadata": {
    "colab": {
     "base_uri": "https://localhost:8080/",
     "height": 51
    },
    "colab_type": "code",
    "id": "s-1ozYzijpVg",
    "outputId": "13f2b550-13b3-4fed-9f62-c4dfba504ddb"
   },
   "outputs": [
    {
     "name": "stdout",
     "output_type": "stream",
     "text": [
      "(800, 10) (800,)\n",
      "(200, 10) (200,)\n"
     ]
    }
   ],
   "source": [
    "# Let's split the data into train and test data\n",
    "from sklearn.model_selection import train_test_split\n",
    "\n",
    "X_train, X_test, y_train, y_test = train_test_split(features,\n",
    "                                                    target,\n",
    "                                                    test_size=0.2)\n",
    "print(X_train.shape, y_train.shape)\n",
    "print(X_test.shape, y_test.shape)"
   ]
  },
  {
   "cell_type": "code",
   "execution_count": 0,
   "metadata": {
    "colab": {},
    "colab_type": "code",
    "id": "Xu8nHBRTjzUk"
   },
   "outputs": [],
   "source": [
    "# Convert the data to torch tensors\n",
    "train_x = torch.tensor(X_train.values, dtype=torch.float)\n",
    "test_x = torch.tensor(X_test.values, dtype=torch.float)\n",
    "\n",
    "train_y = torch.tensor(y_train.values, dtype=torch.float)\n",
    "test_y = torch.tensor(y_test.values, dtype=torch.float)"
   ]
  },
  {
   "cell_type": "code",
   "execution_count": 0,
   "metadata": {
    "colab": {},
    "colab_type": "code",
    "id": "mRb-3qiCkLP3"
   },
   "outputs": [],
   "source": [
    "# Load the data into pytorch required format\n",
    "import torch.utils.data as data_utils\n",
    "train_data = data_utils.TensorDataset(train_x, train_y)\n",
    "train_loader = data_utils.DataLoader(train_data, batch_size=100, shuffle=True)"
   ]
  },
  {
   "cell_type": "code",
   "execution_count": 0,
   "metadata": {
    "colab": {},
    "colab_type": "code",
    "id": "j3deE2xOk2gr"
   },
   "outputs": [],
   "source": [
    "# To be able to use the data in batches, we use the `iter` function \n",
    "features_batch, target_batch = iter(train_loader).next()"
   ]
  },
  {
   "cell_type": "code",
   "execution_count": 13,
   "metadata": {
    "colab": {
     "base_uri": "https://localhost:8080/",
     "height": 34
    },
    "colab_type": "code",
    "id": "Lz_EpwicnZ3r",
    "outputId": "2144fea4-2e1f-44a0-8ab2-3944c68e4dc8"
   },
   "outputs": [
    {
     "name": "stdout",
     "output_type": "stream",
     "text": [
      "torch.Size([100, 10])\n"
     ]
    }
   ],
   "source": [
    "print(features_batch.shape)"
   ]
  },
  {
   "cell_type": "code",
   "execution_count": 14,
   "metadata": {
    "colab": {
     "base_uri": "https://localhost:8080/",
     "height": 34
    },
    "colab_type": "code",
    "id": "I8NyJfh7oxAY",
    "outputId": "d1906fe1-493d-4168-ffdb-2ce1e3af1f7f"
   },
   "outputs": [
    {
     "name": "stdout",
     "output_type": "stream",
     "text": [
      "torch.Size([100])\n"
     ]
    }
   ],
   "source": [
    "print(target_batch.shape)"
   ]
  },
  {
   "cell_type": "markdown",
   "metadata": {
    "colab_type": "text",
    "id": "N5qLxcfgncER"
   },
   "source": [
    "`features_batch` here represents one batch of the entire training data.\n",
    "\n",
    "We had 1000 rows and we used `batch_size=100` hence `features_batch` has 100 rows as well."
   ]
  },
  {
   "cell_type": "markdown",
   "metadata": {
    "colab_type": "text",
    "id": "IxTUrJ3lmqTm"
   },
   "source": [
    "# The Model"
   ]
  },
  {
   "cell_type": "code",
   "execution_count": 0,
   "metadata": {
    "colab": {},
    "colab_type": "code",
    "id": "9iPcgMnplE8b"
   },
   "outputs": [],
   "source": [
    "# Define some parameters\n",
    "input_shape = train_x.shape[1]\n",
    "output_shape = 1\n",
    "hidden_layers = 10\n",
    "loss_func = torch.nn.MSELoss()"
   ]
  },
  {
   "cell_type": "code",
   "execution_count": 0,
   "metadata": {
    "colab": {},
    "colab_type": "code",
    "id": "RspHJ08CleqK"
   },
   "outputs": [],
   "source": [
    "# Define the model\n",
    "model = torch.nn.Sequential(torch.nn.Linear(input_shape, hidden_layers),\n",
    "                         torch.nn.Linear(hidden_layers, output_shape))"
   ]
  },
  {
   "cell_type": "markdown",
   "metadata": {
    "colab_type": "text",
    "id": "1jq1b-JCppOo"
   },
   "source": [
    "Notice how the output of first layer has the same shape as input to the second layer."
   ]
  },
  {
   "cell_type": "code",
   "execution_count": 17,
   "metadata": {
    "colab": {
     "base_uri": "https://localhost:8080/",
     "height": 176
    },
    "colab_type": "code",
    "id": "NvwHn_83lqXY",
    "outputId": "d64eca75-94b4-4c60-c0cd-1bb37c1322a2"
   },
   "outputs": [
    {
     "data": {
      "image/svg+xml": [
       "<?xml version=\"1.0\" encoding=\"UTF-8\" standalone=\"no\"?>\n",
       "<!DOCTYPE svg PUBLIC \"-//W3C//DTD SVG 1.1//EN\"\n",
       " \"http://www.w3.org/Graphics/SVG/1.1/DTD/svg11.dtd\">\n",
       "<!-- Generated by graphviz version 2.40.1 (20161225.0304)\n",
       " -->\n",
       "<!-- Title: %3 Pages: 1 -->\n",
       "<svg width=\"198pt\" height=\"116pt\"\n",
       " viewBox=\"0.00 0.00 198.00 116.00\" xmlns=\"http://www.w3.org/2000/svg\" xmlns:xlink=\"http://www.w3.org/1999/xlink\">\n",
       "<g id=\"graph0\" class=\"graph\" transform=\"scale(1 1) rotate(0) translate(72 80)\">\n",
       "<title>%3</title>\n",
       "<polygon fill=\"#ffffff\" stroke=\"transparent\" points=\"-72,36 -72,-80 126,-80 126,36 -72,36\"/>\n",
       "<!-- 12497921269257812521 -->\n",
       "<g id=\"node1\" class=\"node\">\n",
       "<title>12497921269257812521</title>\n",
       "<polygon fill=\"#e8e8e8\" stroke=\"#000000\" points=\"54,-44 0,-44 0,0 54,0 54,-44\"/>\n",
       "<text text-anchor=\"start\" x=\"14\" y=\"-28\" font-family=\"Times\" font-size=\"10.00\" fill=\"#000000\">Linear</text>\n",
       "<text text-anchor=\"start\" x=\"34\" y=\"-7\" font-family=\"Times\" font-size=\"10.00\" fill=\"#000000\">x2</text>\n",
       "</g>\n",
       "</g>\n",
       "</svg>\n"
      ],
      "text/plain": [
       "<hiddenlayer.graph.Graph at 0x7fadc52a7a58>"
      ]
     },
     "execution_count": 17,
     "metadata": {
      "tags": []
     },
     "output_type": "execute_result"
    }
   ],
   "source": [
    "# Visualize the model using `hiddenlayer` package\n",
    "hl.build_graph(model, torch.zeros([10, input_shape]))"
   ]
  },
  {
   "cell_type": "markdown",
   "metadata": {
    "colab_type": "text",
    "id": "CFpqA-a9l7d6"
   },
   "source": [
    "It shows us that we have 2 Linear layers, just as we defined it!\n",
    "\n",
    "\n",
    "We now need to define an optimizer. \n",
    "\n",
    "An optimizer is an object that is able to update all the models paramters using in built torch functionality. This is much easier to use than to manually update the weights ourselves!"
   ]
  },
  {
   "cell_type": "code",
   "execution_count": 0,
   "metadata": {
    "colab": {},
    "colab_type": "code",
    "id": "cxPxr3Vrl5zm"
   },
   "outputs": [],
   "source": [
    "optimizer = torch.optim.Adam(model.parameters(), lr=0.001)"
   ]
  },
  {
   "cell_type": "markdown",
   "metadata": {
    "colab_type": "text",
    "id": "WdLHwaT2mr1O"
   },
   "source": [
    "# The Training!"
   ]
  },
  {
   "cell_type": "code",
   "execution_count": 22,
   "metadata": {
    "colab": {
     "base_uri": "https://localhost:8080/",
     "height": 887
    },
    "colab_type": "code",
    "id": "Ai4QnxAZmf9O",
    "outputId": "911901e0-4280-4fbd-a0fd-07158b105f8f"
   },
   "outputs": [
    {
     "name": "stderr",
     "output_type": "stream",
     "text": [
      "/usr/local/lib/python3.6/dist-packages/torch/nn/modules/loss.py:431: UserWarning: Using a target size (torch.Size([100])) that is different to the input size (torch.Size([100, 1])). This will likely lead to incorrect results due to broadcasting. Please ensure they have the same size.\n",
      "  return F.mse_loss(input, target, reduction=self.reduction)\n"
     ]
    },
    {
     "name": "stdout",
     "output_type": "stream",
     "text": [
      "Epoch [1/10000]: Step[1/8], Loss:3282.0115\n",
      "Epoch [1/10000]: Step[2/8], Loss:3065.8315\n",
      "Epoch [1/10000]: Step[3/8], Loss:3550.5315\n",
      "Epoch [1/10000]: Step[4/8], Loss:3244.2869\n",
      "Epoch [1/10000]: Step[5/8], Loss:3749.1912\n",
      "Epoch [1/10000]: Step[6/8], Loss:3523.2688\n",
      "Epoch [1/10000]: Step[7/8], Loss:3556.7913\n",
      "Epoch [1/10000]: Step[8/8], Loss:3748.4592\n",
      "Epoch [2001/10000]: Step[1/8], Loss:3296.5720\n",
      "Epoch [2001/10000]: Step[2/8], Loss:3847.5923\n",
      "Epoch [2001/10000]: Step[3/8], Loss:2398.2815\n",
      "Epoch [2001/10000]: Step[4/8], Loss:3496.5776\n",
      "Epoch [2001/10000]: Step[5/8], Loss:4121.9551\n",
      "Epoch [2001/10000]: Step[6/8], Loss:2642.0327\n",
      "Epoch [2001/10000]: Step[7/8], Loss:3260.0356\n",
      "Epoch [2001/10000]: Step[8/8], Loss:3707.0972\n",
      "Epoch [4001/10000]: Step[1/8], Loss:3247.1775\n",
      "Epoch [4001/10000]: Step[2/8], Loss:3465.2959\n",
      "Epoch [4001/10000]: Step[3/8], Loss:2906.5935\n",
      "Epoch [4001/10000]: Step[4/8], Loss:3023.2544\n",
      "Epoch [4001/10000]: Step[5/8], Loss:2567.9910\n",
      "Epoch [4001/10000]: Step[6/8], Loss:3718.7825\n",
      "Epoch [4001/10000]: Step[7/8], Loss:3736.2141\n",
      "Epoch [4001/10000]: Step[8/8], Loss:4090.5081\n",
      "Epoch [6001/10000]: Step[1/8], Loss:3859.3101\n",
      "Epoch [6001/10000]: Step[2/8], Loss:3873.6516\n",
      "Epoch [6001/10000]: Step[3/8], Loss:3024.7444\n",
      "Epoch [6001/10000]: Step[4/8], Loss:2891.5762\n",
      "Epoch [6001/10000]: Step[5/8], Loss:2543.3599\n",
      "Epoch [6001/10000]: Step[6/8], Loss:3624.6553\n",
      "Epoch [6001/10000]: Step[7/8], Loss:4131.1685\n",
      "Epoch [6001/10000]: Step[8/8], Loss:2799.2190\n",
      "Epoch [8001/10000]: Step[1/8], Loss:3553.4956\n",
      "Epoch [8001/10000]: Step[2/8], Loss:3211.1287\n",
      "Epoch [8001/10000]: Step[3/8], Loss:2801.9431\n",
      "Epoch [8001/10000]: Step[4/8], Loss:4875.0898\n",
      "Epoch [8001/10000]: Step[5/8], Loss:2408.1021\n",
      "Epoch [8001/10000]: Step[6/8], Loss:2821.6018\n",
      "Epoch [8001/10000]: Step[7/8], Loss:3497.8740\n",
      "Epoch [8001/10000]: Step[8/8], Loss:3590.0503\n",
      "Epoch [10001/10000]: Step[1/8], Loss:2453.6292\n",
      "Epoch [10001/10000]: Step[2/8], Loss:4270.7446\n",
      "Epoch [10001/10000]: Step[3/8], Loss:2779.2837\n",
      "Epoch [10001/10000]: Step[4/8], Loss:3068.2778\n",
      "Epoch [10001/10000]: Step[5/8], Loss:3535.3823\n",
      "Epoch [10001/10000]: Step[6/8], Loss:3683.9949\n",
      "Epoch [10001/10000]: Step[7/8], Loss:4048.2344\n",
      "Epoch [10001/10000]: Step[8/8], Loss:2899.5249\n"
     ]
    }
   ],
   "source": [
    "total_steps = len(train_loader)\n",
    "num_epochs = 10000\n",
    "for epoch in range(num_epochs + 1):\n",
    "  for i, (inputs, target) in enumerate(train_loader): \n",
    "    # here features and target are one batch of the training data like explained above\n",
    "\n",
    "    # perform a forward pass\n",
    "    output = model(inputs)\n",
    "    # calculate the loss\n",
    "    loss = loss_func(output, target)\n",
    "\n",
    "    # make the gradients zero\n",
    "    optimizer.zero_grad()\n",
    "\n",
    "    # backpropogate\n",
    "    loss.backward()\n",
    "\n",
    "    # update the parameters. Notice how simple it is here\n",
    "    optimizer.step()\n",
    "\n",
    "    if epoch % 2000 == 0:\n",
    "      print(\"Epoch [{}/{}]: Step[{}/{}], Loss:{:.4f}\"\n",
    "              .format(epoch+1, num_epochs, i+1, total_steps, loss.item()))"
   ]
  },
  {
   "cell_type": "markdown",
   "metadata": {
    "colab_type": "text",
    "id": "n-RTjpdGqCZA"
   },
   "source": [
    "# The Evaluation"
   ]
  },
  {
   "cell_type": "markdown",
   "metadata": {
    "colab_type": "text",
    "id": "xyK36kHiqKeG"
   },
   "source": [
    "To evaluate the model we switch to evaluation mode. \n",
    "\n",
    "This is because the `Dropout` and `BatchNormalization` layers have different models for evaluation and training."
   ]
  },
  {
   "cell_type": "code",
   "execution_count": 0,
   "metadata": {
    "colab": {},
    "colab_type": "code",
    "id": "pEBKauKMntqj"
   },
   "outputs": [],
   "source": [
    "model.eval()\n",
    "\n",
    "# Predict on the test set\n",
    "with torch.no_grad():\n",
    "  # Anything inside `torch.no_grad()`\n",
    "  # puts the `requires_grad` property to False.\n",
    "  y_pred = model(test_x)"
   ]
  },
  {
   "cell_type": "code",
   "execution_count": 29,
   "metadata": {
    "colab": {
     "base_uri": "https://localhost:8080/",
     "height": 34
    },
    "colab_type": "code",
    "id": "SSJNy50JqcWQ",
    "outputId": "0099c1e9-09c0-417b-a7a6-6b4fee66684a"
   },
   "outputs": [
    {
     "name": "stdout",
     "output_type": "stream",
     "text": [
      "(200, 1)\n"
     ]
    }
   ],
   "source": [
    "# convert the tensor to a numpy array\n",
    "y_pred = y_pred.detach().numpy()\n",
    "print(y_pred.shape)"
   ]
  },
  {
   "cell_type": "code",
   "execution_count": 32,
   "metadata": {
    "colab": {
     "base_uri": "https://localhost:8080/",
     "height": 34
    },
    "colab_type": "code",
    "id": "EqvfL_GKrDQT",
    "outputId": "7624fd02-55e8-4239-cefa-074ddd9d7c68"
   },
   "outputs": [
    {
     "data": {
      "text/plain": [
       "(200,)"
      ]
     },
     "execution_count": 32,
     "metadata": {
      "tags": []
     },
     "output_type": "execute_result"
    }
   ],
   "source": [
    "y_test.shape"
   ]
  },
  {
   "cell_type": "markdown",
   "metadata": {
    "colab_type": "text",
    "id": "jhBgB_e_rOj0"
   },
   "source": [
    "Both are the same shape so we can continue to evaluate the model.\n",
    "\n",
    "To evaluate the model we use the r2 (r-square) score."
   ]
  },
  {
   "cell_type": "code",
   "execution_count": 34,
   "metadata": {
    "colab": {
     "base_uri": "https://localhost:8080/",
     "height": 34
    },
    "colab_type": "code",
    "id": "TNTxr_pSrNUL",
    "outputId": "0aceb2bd-6564-4501-9d4c-093d2067acf5"
   },
   "outputs": [
    {
     "name": "stdout",
     "output_type": "stream",
     "text": [
      "R2 score:  0.028551743423591014\n"
     ]
    }
   ],
   "source": [
    "from sklearn.metrics import r2_score\n",
    "\n",
    "print(\"R2 score: \", r2_score(y_test, y_pred))"
   ]
  },
  {
   "cell_type": "markdown",
   "metadata": {
    "colab_type": "text",
    "id": "ghbvt3vVsMpS"
   },
   "source": [
    "As you can see the R2 score is pretty bad (higher the better). \n",
    "\n",
    "Clearly we need to train our model for more number of epochs and also on the entire dataset. \n",
    "\n",
    "I leave that up to you to do."
   ]
  }
 ],
 "metadata": {
  "colab": {
   "collapsed_sections": [],
   "name": "Pytorch Linear Regression - Complex.ipynb",
   "provenance": []
  },
  "kernelspec": {
   "display_name": "Python 3",
   "language": "python",
   "name": "python3"
  }
 },
 "nbformat": 4,
 "nbformat_minor": 1
}

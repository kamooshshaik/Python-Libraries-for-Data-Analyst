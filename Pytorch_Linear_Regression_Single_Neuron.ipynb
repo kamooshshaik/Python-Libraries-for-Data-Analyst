{
 "cells": [
  {
   "cell_type": "code",
   "execution_count": 0,
   "metadata": {
    "colab": {},
    "colab_type": "code",
    "id": "sdF4X8zwE4o3"
   },
   "outputs": [],
   "source": [
    "# Necessary imports\n",
    "import torch \n",
    "import numpy as np\n",
    "import matplotlib.pyplot as plt"
   ]
  },
  {
   "cell_type": "code",
   "execution_count": 0,
   "metadata": {
    "colab": {},
    "colab_type": "code",
    "id": "TiYXC609FPhf"
   },
   "outputs": [],
   "source": [
    "# Create the sample dataset\n",
    "X = np.array([1.0, 20.4, 30.5, 7.5, 9.9,\n",
    "              100.9, 200.1, 45.1, 150.1, 7.0,\n",
    "              29.4, 31.5, 157.3, 10.9, 120.6,\n",
    "              16.9, 201.1, 21.1, 300.1, 21.0,\n",
    "              120.4, 230.5, 37.5, 49.9, 230.0,\n",
    "              109.9, 121.1, 145.1, 157.1, 17.0,\n",
    "              219.4, 131.5, 187.3, 210.9, 290.6,\n",
    "              126.9, 71.1, 91.1, 19.1, 100.0])\n",
    "X_train = []\n",
    "# normalize each value\n",
    "for i in X:\n",
    "  X_train.append([i/100])\n",
    "\n",
    "X_train = np.array(X_train)\n",
    "\n",
    "y_train = np.array([i*0.175 + 0.4 for i in X_train]) # bias should be 0.4 and w=0.175"
   ]
  },
  {
   "cell_type": "code",
   "execution_count": 3,
   "metadata": {
    "colab": {
     "base_uri": "https://localhost:8080/",
     "height": 51
    },
    "colab_type": "code",
    "id": "pzOdfBAPIpGn",
    "outputId": "a244de72-4b61-4876-fdfc-4c8b5035dbb9"
   },
   "outputs": [
    {
     "name": "stdout",
     "output_type": "stream",
     "text": [
      "(40, 1)\n",
      "(40, 1)\n"
     ]
    }
   ],
   "source": [
    "# Check the shape of the data to be sure\n",
    "print(X_train.shape)\n",
    "print(y_train.shape)"
   ]
  },
  {
   "cell_type": "code",
   "execution_count": 4,
   "metadata": {
    "colab": {
     "base_uri": "https://localhost:8080/",
     "height": 265
    },
    "colab_type": "code",
    "id": "WqPvEy7BGSoB",
    "outputId": "42d616b1-f0b6-4b0c-e99b-3f8a7350f908"
   },
   "outputs": [
    {
     "data": {
      "image/png": "[encoded data removed]",
      "text/plain": [
       "<Figure size 432x288 with 1 Axes>"
      ]
     },
     "metadata": {
      "needs_background": "light",
      "tags": []
     },
     "output_type": "display_data"
    }
   ],
   "source": [
    "# Visualize the data\n",
    "plt.scatter(X_train, y_train, c=\"green\", label=\"Original Data\")\n",
    "plt.show()"
   ]
  },
  {
   "cell_type": "code",
   "execution_count": 0,
   "metadata": {
    "colab": {},
    "colab_type": "code",
    "id": "_-D_huN0GXKd"
   },
   "outputs": [],
   "source": [
    "# Create the torch tensors\n",
    "X = torch.from_numpy(X_train)\n",
    "y = torch.from_numpy(y_train)"
   ]
  },
  {
   "cell_type": "code",
   "execution_count": 6,
   "metadata": {
    "colab": {
     "base_uri": "https://localhost:8080/",
     "height": 51
    },
    "colab_type": "code",
    "id": "kd2-RnsXNS5i",
    "outputId": "2a28bf37-3515-4568-95ee-bbe03be9bfd3"
   },
   "outputs": [
    {
     "name": "stdout",
     "output_type": "stream",
     "text": [
      "torch.Size([40, 1])\n",
      "torch.Size([40, 1])\n"
     ]
    }
   ],
   "source": [
    "print(X.shape)\n",
    "print(y.shape)"
   ]
  },
  {
   "cell_type": "code",
   "execution_count": 0,
   "metadata": {
    "colab": {},
    "colab_type": "code",
    "id": "3BNaPRRPKSkJ"
   },
   "outputs": [],
   "source": [
    "# Define the parameters needed\n",
    "input_size = 1\n",
    "hidden_layers = 1\n",
    "outputs = 1\n",
    "learning_rate = 0.001\n",
    "num_epochs = 150"
   ]
  },
  {
   "cell_type": "code",
   "execution_count": 8,
   "metadata": {
    "colab": {
     "base_uri": "https://localhost:8080/",
     "height": 34
    },
    "colab_type": "code",
    "id": "ND1IzGy0Kwwb",
    "outputId": "8ab0202b-308f-4ac6-e962-1aaeeb8c8453"
   },
   "outputs": [
    {
     "name": "stdout",
     "output_type": "stream",
     "text": [
      "torch.Size([1, 1])\n"
     ]
    }
   ],
   "source": [
    "# Create the first weight tensor\n",
    "w1 = torch.rand(input_size, hidden_layers, requires_grad=True)\n",
    "print(w1.shape)"
   ]
  },
  {
   "cell_type": "code",
   "execution_count": 9,
   "metadata": {
    "colab": {
     "base_uri": "https://localhost:8080/",
     "height": 34
    },
    "colab_type": "code",
    "id": "txFjNz-KLBsg",
    "outputId": "bf0c30b8-0520-4e75-cda6-503f3ac50e9a"
   },
   "outputs": [
    {
     "name": "stdout",
     "output_type": "stream",
     "text": [
      "torch.Size([1, 1])\n"
     ]
    }
   ],
   "source": [
    "b1 = torch.rand(hidden_layers, outputs, requires_grad=True)\n",
    "print(b1.shape)"
   ]
  },
  {
   "cell_type": "code",
   "execution_count": 10,
   "metadata": {
    "colab": {
     "base_uri": "https://localhost:8080/",
     "height": 102
    },
    "colab_type": "code",
    "id": "vYAbf4AGLLwa",
    "outputId": "aab5bc4b-d698-471e-9ee3-8c6572c3e2f2"
   },
   "outputs": [
    {
     "name": "stdout",
     "output_type": "stream",
     "text": [
      "Epoch :  25 \t Loss : tensor(0.0021, dtype=torch.float64, grad_fn=<SumBackward0>)\n",
      "Epoch :  50 \t Loss : tensor(0.0004, dtype=torch.float64, grad_fn=<SumBackward0>)\n",
      "Epoch :  75 \t Loss : tensor(0.0001, dtype=torch.float64, grad_fn=<SumBackward0>)\n",
      "Epoch :  100 \t Loss : tensor(4.1570e-05, dtype=torch.float64, grad_fn=<SumBackward0>)\n",
      "Epoch :  125 \t Loss : tensor(1.3125e-05, dtype=torch.float64, grad_fn=<SumBackward0>)\n"
     ]
    }
   ],
   "source": [
    "for i in range(1, num_epochs):\n",
    "  # y = wx + b - one forward pass\n",
    "  y_pred = X.mm(w1.double()).clamp(min=0).add(b1.double()) \n",
    "  # Here the `.clamp(min=0)` works as the ReLu actiation function\n",
    "\n",
    "  # calculate the loss\n",
    "  loss = (y-y_pred).pow(2).sum()\n",
    "\n",
    "  if i % 25==0:\n",
    "    print(\"Epoch : \", i, \"\\t Loss :\", loss)\n",
    "  \n",
    "  # backpropogation\n",
    "  loss.backward()\n",
    "\n",
    "  with torch.no_grad():\n",
    "    # update the weights and biases\n",
    "    w1 -= (learning_rate * w1.grad)\n",
    "    b1 -= (learning_rate * b1.grad)\n",
    "    # set the gradients to 0\n",
    "    w1.grad.zero_()\n",
    "    b1.grad.zero_()"
   ]
  },
  {
   "cell_type": "code",
   "execution_count": 11,
   "metadata": {
    "colab": {
     "base_uri": "https://localhost:8080/",
     "height": 51
    },
    "colab_type": "code",
    "id": "UWXVKwJ5MqZg",
    "outputId": "ec04390a-b963-4e59-8542-77db0fb7af4d"
   },
   "outputs": [
    {
     "name": "stdout",
     "output_type": "stream",
     "text": [
      "tensor([[0.1753]], requires_grad=True)\n",
      "tensor([[0.3995]], requires_grad=True)\n"
     ]
    }
   ],
   "source": [
    "print(w1)\n",
    "print(b1)"
   ]
  },
  {
   "cell_type": "markdown",
   "metadata": {
    "colab_type": "text",
    "id": "SS2k4Gm6Ti4o"
   },
   "source": [
    "That's pretty close to the actual values we used. \n",
    "\n",
    "You can try running with more iterations if you want to see if you ever get the actual values! "
   ]
  },
  {
   "cell_type": "code",
   "execution_count": 12,
   "metadata": {
    "colab": {
     "base_uri": "https://localhost:8080/",
     "height": 265
    },
    "colab_type": "code",
    "id": "a35MdMWKSSIX",
    "outputId": "7bdd2341-095a-49b8-c019-563c9b9872ed"
   },
   "outputs": [
    {
     "data": {
      "image/png": "[encoded data removed]",
      "text/plain": [
       "<Figure size 432x288 with 1 Axes>"
      ]
     },
     "metadata": {
      "needs_background": "light",
      "tags": []
     },
     "output_type": "display_data"
    }
   ],
   "source": [
    "# Let's visualize the output\n",
    "plt.scatter(X, y, c=\"green\", s=150, label=\"Original Data\")\n",
    "plt.plot(X, y_pred.detach().numpy(), label=\"Fitted Line\")\n",
    "plt.legend()\n",
    "plt.show()"
   ]
  },
  {
   "cell_type": "markdown",
   "metadata": {
    "colab_type": "text",
    "id": "ok25uJr2UfZk"
   },
   "source": [
    "As you can clearly see the line fits very well with the data.\n",
    "\n",
    "This is a simple one neuron network that simply performs linear regression.\n",
    "\n",
    "You might never use this in practice but the idea is to understand the concept!\n"
   ]
  }
 ],
 "metadata": {
  "colab": {
   "name": "Pytorch Linear Regression - Single Neuron.ipynb",
   "provenance": []
  },
  "kernelspec": {
   "display_name": "Python 3",
   "language": "python",
   "name": "python3"
  },
  "language_info": {
   "codemirror_mode": {
    "name": "ipython",
    "version": 3
   },
   "file_extension": ".py",
   "mimetype": "text/x-python",
   "name": "python",
   "nbconvert_exporter": "python",
   "pygments_lexer": "ipython3",
   "version": "3.6.8"
  }
 },
 "nbformat": 4,
 "nbformat_minor": 1
}
